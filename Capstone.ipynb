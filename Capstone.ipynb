{
 "cells": [
  {
   "cell_type": "code",
   "execution_count": null,
   "id": "c4d48a9f",
   "metadata": {},
   "outputs": [],
   "source": [
    "from sklearn.datasets import fetch_california_housing\n",
    "from sklearn.ensemble import RandomForestRegressor\n",
    "from sklearn.metrics import mean_squared_error\n",
    "from sklearn.model_selection import train_test_split, GridSearchCV\n",
    "import numpy as np\n",
    "import pandas as pd\n",
    "import matplotlib.pyplot as plt\n",
    "import seaborn as sns\n",
    "\n",
    "# Fetch data, pick features/target, split into training/test data, decide seed\n",
    "housing = fetch_california_housing(as_frame=True).frame\n",
    "features = housing[['MedInc', 'AveRooms', 'Latitude', 'Longitude']]\n",
    "target = housing['MedHouseVal']\n",
    "features_train, features_test, target_train, target_test = train_test_split(features, target, test_size = 0.3, random_state = 964)\n",
    "seed = 964\n",
    "\n",
    "# Get model and train it\n",
    "random_forest_model = RandomForestRegressor(random_state=seed)\n",
    "random_forest_model.fit(features_train, target_train)\n",
    "\n",
    "# Check accuracy through RMSE\n",
    "target_predictions = random_forest_model.predict(features_test)\n",
    "RMSE = mean_squared_error(target_test, target_predictions, squared=False)\n",
    "avg_error = round(RMSE * 100000, 2)\n",
    "print(f\"On average, house estimation values are ${avg_error:.2f} off.\")"
   ]
  },
  {
   "cell_type": "code",
   "execution_count": null,
   "id": "a37b4a48",
   "metadata": {},
   "outputs": [],
   "source": [
    "# Visualize data spread with histograms\n",
    "housing.hist(bins = 30, figsize = (20, 20));\n",
    "# Statistical summary of the data\n",
    "housing.describe()"
   ]
  },
  {
   "cell_type": "code",
   "execution_count": null,
   "id": "4bb223b9",
   "metadata": {},
   "outputs": [],
   "source": [
    "# Visualize correlations with a heatmap\n",
    "correlation_matrix = housing.corr().round(2)\n",
    "sns.heatmap(data=correlation_matrix,cmap='coolwarm',annot=True);"
   ]
  },
  {
   "cell_type": "code",
   "execution_count": null,
   "id": "b8da45f3",
   "metadata": {},
   "outputs": [],
   "source": [
    "# Visualize feature importance for random forest regression model with a bar graph\n",
    "importances = random_forest_model.feature_importances_\n",
    "importances = pd.DataFrame({'feature': features.columns, 'importance': np.round(importances, 2)})\n",
    "importances = importances.sort_values('importance', ascending=False).set_index('feature')\n",
    "importances.plot.barh();\n",
    "print(importances)"
   ]
  },
  {
   "cell_type": "code",
   "execution_count": null,
   "id": "8a402ec4",
   "metadata": {},
   "outputs": [],
   "source": [
    "def get_user_input():\n",
    "    while True:\n",
    "        try:\n",
    "            rooms = float(input(\"Enter number of rooms: \"))\n",
    "            if rooms < 0:\n",
    "                raise ValueError(\"Number of rooms can't be negative.\")\n",
    "            break\n",
    "        except ValueError as e:\n",
    "            print(f\"Error: {e}\")\n",
    "\n",
    "    while True:\n",
    "        try:\n",
    "            lat = float(input(\"Enter latitude(32.5 - 42): \"))\n",
    "            if lat < 32.5 or lat > 42:\n",
    "                raise ValueError(\"Latitude must be between 32.5 and 42.\")\n",
    "            break\n",
    "        except ValueError as e:\n",
    "            print(f\"Error: {e}\")\n",
    "\n",
    "    while True:\n",
    "        try:\n",
    "            lng = float(input(\"Enter longitude(-124.65 - -114.13): \"))\n",
    "            if lng < -124.65 or lng > -114.13:\n",
    "                raise ValueError(\"Longitude must be between -124.65 and -114.13.\")\n",
    "            break\n",
    "        except ValueError as e:\n",
    "            print(f\"Error: {e}\")\n",
    "\n",
    "    while True:\n",
    "        try:\n",
    "            income = float(input(\"Enter yearly income of current/previous household: \"))\n",
    "            if income < 0:\n",
    "                raise ValueError(\"Income can't be negative.\")\n",
    "            break\n",
    "        except ValueError as e:\n",
    "            print(f\"Error: {e}\")\n",
    "\n",
    "    return rooms, lat, lng, income / 10000"
   ]
  },
  {
   "cell_type": "code",
   "execution_count": null,
   "id": "f8850f94",
   "metadata": {},
   "outputs": [],
   "source": [
    "def predict_property_value():\n",
    "    rooms, lat, lng, income = get_user_input()\n",
    "    user_input = pd.DataFrame({'MedInc': [income], 'AveRooms': [rooms], 'Latitude': [lat], 'Longitude': [lng]})\n",
    "    prediction = tuned_min_random_forest.predict(user_input)\n",
    "    print(f\"Your house is estimated to be worth ${prediction[0] * 100000:.2f} dollars.\")"
   ]
  },
  {
   "cell_type": "code",
   "execution_count": null,
   "id": "c195902d",
   "metadata": {},
   "outputs": [],
   "source": [
    "# Run this cell by clicking shift + enter to begin predicting property values\n",
    "predict_property_value()"
   ]
  }
 ],
 "metadata": {
  "kernelspec": {
   "display_name": "Python 3 (ipykernel)",
   "language": "python",
   "name": "python3"
  },
  "language_info": {
   "codemirror_mode": {
    "name": "ipython",
    "version": 3
   },
   "file_extension": ".py",
   "mimetype": "text/x-python",
   "name": "python",
   "nbconvert_exporter": "python",
   "pygments_lexer": "ipython3",
   "version": "3.11.2"
  }
 },
 "nbformat": 4,
 "nbformat_minor": 5
}
